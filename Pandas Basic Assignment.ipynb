{
 "cells": [
  {
   "cell_type": "markdown",
   "id": "f3bc5fa5-b2da-4608-b589-3a23e102918a",
   "metadata": {},
   "source": [
    "Q1. Create a Pandas Series that contains the following data: 4, 8, 15, 16, 23, and 42. Then, print the series."
   ]
  },
  {
   "cell_type": "code",
   "execution_count": 8,
   "id": "ca325a98-5aff-4354-8e11-0d10d64ec53b",
   "metadata": {},
   "outputs": [
    {
     "data": {
      "text/plain": [
       "0     4\n",
       "1     8\n",
       "2    15\n",
       "3    16\n",
       "4    23\n",
       "5    42\n",
       "dtype: int64"
      ]
     },
     "execution_count": 8,
     "metadata": {},
     "output_type": "execute_result"
    }
   ],
   "source": [
    "import pandas as pd\n",
    "data =  pd.Series([4, 8, 15, 16, 23, 42])\n",
    "data"
   ]
  },
  {
   "cell_type": "markdown",
   "id": "6593495c-a16d-493f-a346-71cb98c01fa0",
   "metadata": {},
   "source": [
    "Q2. Create a variable of list type containing 10 elements in it, and apply pandas.Series function on the\n",
    "variable print it."
   ]
  },
  {
   "cell_type": "code",
   "execution_count": 16,
   "id": "53952fde-79fe-4ce8-b712-8d27b8c5f502",
   "metadata": {},
   "outputs": [
    {
     "data": {
      "text/plain": [
       "0    1\n",
       "1    2\n",
       "2    3\n",
       "3    4\n",
       "4    5\n",
       "5    7\n",
       "6    7\n",
       "7    7\n",
       "8    7\n",
       "9    7\n",
       "dtype: int64"
      ]
     },
     "execution_count": 16,
     "metadata": {},
     "output_type": "execute_result"
    }
   ],
   "source": [
    "l = [1,2,3,4,5,7,7,7,7,7]\n",
    "pd.Series(l)"
   ]
  },
  {
   "cell_type": "markdown",
   "id": "9515db7c-8b78-4347-86a6-89a7342856ce",
   "metadata": {},
   "source": [
    "Q3. Create a Pandas DataFrame that contains the following data:\n",
    "Then, print the DataFrame."
   ]
  },
  {
   "cell_type": "code",
   "execution_count": 19,
   "id": "14a5ec52-84f3-4b52-9352-d698f1a90ce8",
   "metadata": {},
   "outputs": [
    {
     "data": {
      "text/html": [
       "<div>\n",
       "<style scoped>\n",
       "    .dataframe tbody tr th:only-of-type {\n",
       "        vertical-align: middle;\n",
       "    }\n",
       "\n",
       "    .dataframe tbody tr th {\n",
       "        vertical-align: top;\n",
       "    }\n",
       "\n",
       "    .dataframe thead th {\n",
       "        text-align: right;\n",
       "    }\n",
       "</style>\n",
       "<table border=\"1\" class=\"dataframe\">\n",
       "  <thead>\n",
       "    <tr style=\"text-align: right;\">\n",
       "      <th></th>\n",
       "      <th>Name</th>\n",
       "      <th>Age</th>\n",
       "      <th>Gender</th>\n",
       "    </tr>\n",
       "  </thead>\n",
       "  <tbody>\n",
       "    <tr>\n",
       "      <th>0</th>\n",
       "      <td>Alice</td>\n",
       "      <td>25</td>\n",
       "      <td>Female</td>\n",
       "    </tr>\n",
       "    <tr>\n",
       "      <th>1</th>\n",
       "      <td>Bob</td>\n",
       "      <td>30</td>\n",
       "      <td>Male</td>\n",
       "    </tr>\n",
       "    <tr>\n",
       "      <th>2</th>\n",
       "      <td>claire</td>\n",
       "      <td>27</td>\n",
       "      <td>Female</td>\n",
       "    </tr>\n",
       "  </tbody>\n",
       "</table>\n",
       "</div>"
      ],
      "text/plain": [
       "     Name  Age  Gender\n",
       "0   Alice   25  Female\n",
       "1     Bob   30    Male\n",
       "2  claire   27  Female"
      ]
     },
     "execution_count": 19,
     "metadata": {},
     "output_type": "execute_result"
    }
   ],
   "source": [
    "data1 = {'Name':['Alice','Bob','claire'],'Age':[25,30,27], 'Gender':['Female','Male','Female'] }\n",
    "frame = pd.DataFrame(data1)\n",
    "frame"
   ]
  },
  {
   "cell_type": "markdown",
   "id": "6600bd34-652c-4ea8-a5c7-6680f1f1233d",
   "metadata": {},
   "source": [
    "Q4. What is ‘DataFrame’ in pandas and how is it different from pandas.series? Explain with an example."
   ]
  },
  {
   "cell_type": "code",
   "execution_count": 22,
   "id": "1d61ad69-2fdd-4cd9-a7d8-e211250b75ea",
   "metadata": {},
   "outputs": [
    {
     "name": "stdout",
     "output_type": "stream",
     "text": [
      "0    1\n",
      "1    2\n",
      "2    3\n",
      "3    4\n",
      "4    5\n",
      "dtype: int64\n",
      "   A   B   C\n",
      "0  1   2   1\n",
      "1  2   4   4\n",
      "2  3   6   9\n",
      "3  4   8  16\n",
      "4  5  10  25\n"
     ]
    },
    {
     "data": {
      "text/plain": [
       "'As you can see, the Series has only one column of data with default indices from `0` to `4`. \\nThe DataFrame has three columns of data, each with the same indices as the Series. \\nThe DataFrame also has column names (`A`, `B`, and `C`) that can be used to access or manipulate the data.'"
      ]
     },
     "execution_count": 22,
     "metadata": {},
     "output_type": "execute_result"
    }
   ],
   "source": [
    "'''A **DataFrame** in pandas is a two-dimensional data structure that can store heterogeneous types of data in rows and columns. \n",
    "It can be thought of as a dict-like container for Series objects². \n",
    "A **Series** in pandas is a one-dimensional data structure that can store heterogeneous types of data with labels or indices³.\n",
    "A Series is also the primary building block for a DataFrame, making up its rows and columns⁵.\n",
    "An example of creating a DataFrame and a Series in pandas is:\n",
    " Create a Series from a list'''\n",
    "s = pd.Series([1, 2, 3, 4, 5])\n",
    "\n",
    "# Create a DataFrame from a dict of Series\n",
    "df = pd.DataFrame({'A': s, 'B': s * 2, 'C': s ** 2})\n",
    "\n",
    "# Print the Series and the DataFrame\n",
    "print(s)\n",
    "print(df)\n",
    "\n",
    "\n",
    "'''As you can see, the Series has only one column of data with default indices from `0` to `4`. \n",
    "The DataFrame has three columns of data, each with the same indices as the Series. \n",
    "The DataFrame also has column names (`A`, `B`, and `C`) that can be used to access or manipulate the data.'''\n",
    "\n"
   ]
  },
  {
   "cell_type": "markdown",
   "id": "9e817229-1e0e-4fee-950a-94b2ed9eb86c",
   "metadata": {},
   "source": [
    "Q5. What are some common functions you can use to manipulate data in a Pandas DataFrame? Can\n",
    "you give an example of when you might use one of these functions?"
   ]
  },
  {
   "cell_type": "markdown",
   "id": "abe0862d-fecf-4527-a0d5-fa3a64f75d74",
   "metadata": {},
   "source": [
    "There are many functions that can be used to manipulate data in a Pandas DataFrame. Some of the common ones are:\n",
    "\n",
    "- **read_csv ()**: This function reads a comma-separated values (csv) file into a Pandas DataFrame¹. It is useful for loading data from external sources.\n",
    "- **head ()** and **tail ()**: These functions return the first and last n rows of a DataFrame, respectively. They are useful for getting a quick glimpse of the data².\n",
    "- **describe ()**: This function returns a summary of the descriptive statistics of the numeric columns in a DataFrame, such as mean, median, standard deviation, etc. It is useful for getting a general overview of the data distribution¹.\n",
    "- **info ()**: This function returns a concise summary of the DataFrame, such as the number of rows, columns, data types, memory usage, etc. It is useful for checking the structure and attributes of the data².\n",
    "- **astype ()**: This function converts the data type of one or more columns in a DataFrame. It is useful for changing the data type to a more appropriate or efficient one¹.\n",
    "- **loc [:]** and **iloc [:]**: These functions allow us to access or modify the data in a DataFrame by labels or indices, respectively. They are useful for slicing, filtering, or updating the data².\n",
    "- **value_counts ()**: This function returns the frequency counts of each unique value in a Series or a column of a DataFrame. It is useful for analyzing the distribution of categorical data¹.\n",
    "- **apply ()** and **applymap ()**: These functions allow us to apply a custom function to each element, row, or column of a DataFrame. They are useful for performing complex calculations or transformations on the data².\n",
    "- **groupby ()**: This function groups the data in a DataFrame by one or more columns and allows us to perform aggregation, transformation, or filtering operations on each group. It is useful for analyzing the data by different categories or factors².\n",
    "- **merge ()**, **join ()**, and **concat ()**: These functions allow us to combine two or more DataFrames by columns or indices. They are useful for joining or appending data from different sources².\n",
    "\n"
   ]
  },
  {
   "cell_type": "code",
   "execution_count": null,
   "id": "5c083138-f44e-4d02-9a4d-813c11ccef66",
   "metadata": {},
   "outputs": [],
   "source": [
    "# Load the california housing dataset\n",
    "df = pd.read_csv('california_housing.csv')\n",
    "\n",
    "# Group the data by ocean_proximity and calculate the mean house value for each group\n",
    "df.groupby('ocean_proximity')['median_house_value'].mean()\n"
   ]
  },
  {
   "cell_type": "markdown",
   "id": "c0fefb74-a6f8-4774-9edd-cc5b43888b3c",
   "metadata": {},
   "source": [
    "Q6. Which of the following is mutable in nature Series, DataFrame, Panel?"
   ]
  },
  {
   "cell_type": "markdown",
   "id": "9b5aaa6c-6b26-4b65-b371-f02a20054a4f",
   "metadata": {},
   "source": [
    "A **Series** is a one-dimensional data structure that is value-mutable (the values it contains can be altered) but not size-mutable (the length cannot be changed)⁵. A **DataFrame** is a two-dimensional data structure that is both value-mutable and size-mutable (the values and the length can be changed)³. A **Panel** is a three-dimensional data structure that is also value-mutable and size-mutable⁴.\n",
    "\n",
    "Therefore, the answer is: all of them are mutable in nature, but only DataFrame and Panel are size-mutable.\n",
    "\n"
   ]
  },
  {
   "cell_type": "markdown",
   "id": "0abda0fd-224e-4d2d-a3b8-75953a365795",
   "metadata": {},
   "source": [
    "Q7. Create a DataFrame using multiple Series. Explain with an example."
   ]
  },
  {
   "cell_type": "code",
   "execution_count": 24,
   "id": "b80a0a0a-7132-4783-98bd-51eb1b7e13f8",
   "metadata": {},
   "outputs": [
    {
     "name": "stdout",
     "output_type": "stream",
     "text": [
      "   A  B   C\n",
      "0  1  5   9\n",
      "1  2  6  10\n",
      "2  3  7  11\n",
      "3  4  8  12\n"
     ]
    }
   ],
   "source": [
    "s1 = pd.Series([1, 2, 3, 4], name='A')\n",
    "s2 = pd.Series([5, 6, 7, 8], name='B')\n",
    "s3 = pd.Series([9, 10, 11, 12], name='C')\n",
    "\n",
    "df = pd.DataFrame({'A': s1, 'B': s2, 'C': s3})\n",
    "print(df)\n"
   ]
  },
  {
   "cell_type": "code",
   "execution_count": null,
   "id": "d02daf39-23db-4ae5-a213-52b091eeac56",
   "metadata": {},
   "outputs": [],
   "source": []
  }
 ],
 "metadata": {
  "kernelspec": {
   "display_name": "Python 3 (ipykernel)",
   "language": "python",
   "name": "python3"
  },
  "language_info": {
   "codemirror_mode": {
    "name": "ipython",
    "version": 3
   },
   "file_extension": ".py",
   "mimetype": "text/x-python",
   "name": "python",
   "nbconvert_exporter": "python",
   "pygments_lexer": "ipython3",
   "version": "3.10.8"
  }
 },
 "nbformat": 4,
 "nbformat_minor": 5
}
